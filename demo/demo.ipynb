{
 "cells": [
  {
   "cell_type": "markdown",
   "metadata": {},
   "source": [
    "### Bandicoot\n",
    "\n",
    "_bandicoot_ is an open-source python toolbox to analyze mobile phone metadata.\n",
    "\n",
    "For more information, see: http://bandicoot.mit.edu/\n",
    "\n",
    "<hr>"
   ]
  },
  {
   "cell_type": "code",
   "execution_count": 1,
   "metadata": {
    "collapsed": false
   },
   "outputs": [
    {
     "name": "stdout",
     "output_type": "stream",
     "text": [
      "Populating the interactive namespace from numpy and matplotlib\n"
     ]
    }
   ],
   "source": [
    "%pylab inline\n",
    "import seaborn as sns\n",
    "import numpy as np"
   ]
  },
  {
   "cell_type": "markdown",
   "metadata": {},
   "source": [
    "### Input files\n",
    "\n",
    "<img src=\"mini-mockups-01.png\" width=\"80%\" style=\"border: 1px solid #aaa\" />\n",
    "\n",
    "Scheme for ``read_csv`` user records:\n",
    "> ``interaction,direction,correspondent_id,datetime,call_duration,antenna_id``\n",
    "\n",
    "Scheme for ``read_orange``:\n",
    "> ``call_record_type;basic_service;user_msisdn;call_partner_identity;datetime;call_duration;longitude;latitude``"
   ]
  },
  {
   "cell_type": "code",
   "execution_count": 2,
   "metadata": {
    "collapsed": false
   },
   "outputs": [
    {
     "name": "stdout",
     "output_type": "stream",
     "text": [
      "interaction,direction,correspondent_id,datetime,call_duration,antenna_id\r\n",
      "text,in,A,2014-03-02 07:13:30,,1\r\n",
      "text,in,E,2014-03-02 07:53:30,,1\r\n",
      "text,in,E,2014-03-02 08:22:30,,2\r\n",
      "text,out,D,2014-03-02 08:34:30,,3\r\n"
     ]
    }
   ],
   "source": [
    "!head -n 5 data/ego.csv"
   ]
  },
  {
   "cell_type": "code",
   "execution_count": 3,
   "metadata": {
    "collapsed": false
   },
   "outputs": [
    {
     "name": "stdout",
     "output_type": "stream",
     "text": [
      "antenna_id,latitude,longitude\r\n",
      "1,42.366944,-71.083611\r\n",
      "2,42.386722,-71.138778\r\n",
      "3,42.3604,-71.087374\r\n",
      "4,42.353917,-71.105\r\n"
     ]
    }
   ],
   "source": [
    "!head -n 5 data/antennas.csv"
   ]
  },
  {
   "cell_type": "markdown",
   "metadata": {},
   "source": [
    "## Loading a user"
   ]
  },
  {
   "cell_type": "code",
   "execution_count": 4,
   "metadata": {
    "collapsed": false
   },
   "outputs": [
    {
     "name": "stdout",
     "output_type": "stream",
     "text": [
      "\u001b[32m[x]\u001b[0m 314 records from 2014-03-02 07:13:30 to 2014-04-14 12:04:37\n",
      "\u001b[32m[x]\u001b[0m 7 contacts\n",
      "\u001b[32m[ ]\u001b[0m No attribute stored\n",
      "\u001b[32m[x]\u001b[0m 27 antennas\n",
      "\u001b[32m[ ]\u001b[0m No recharges\n",
      "\u001b[32m[x]\u001b[0m Has home\n",
      "\u001b[32m[x]\u001b[0m Has texts\n",
      "\u001b[32m[x]\u001b[0m Has calls\n",
      "\u001b[32m[ ]\u001b[0m No network\n"
     ]
    }
   ],
   "source": [
    "import bandicoot as bc\n",
    "\n",
    "U = bc.read_csv('ego', 'data/', 'data/antennas.csv')"
   ]
  },
  {
   "cell_type": "code",
   "execution_count": 5,
   "metadata": {
    "collapsed": false,
    "scrolled": false
   },
   "outputs": [
    {
     "name": "stdout",
     "output_type": "stream",
     "text": [
      "Successfully exported 1 object(s) to /Volumes/Data/projects/bandicoot/demo/viz/public/data/bc_export.json\n"
     ]
    },
    {
     "data": {
      "text/html": [
       "\n",
       "        <iframe\n",
       "            width=\"100%\"\n",
       "            height=\"700\"\n",
       "            src=\"/files/viz/public/index.html\"\n",
       "            frameborder=\"0\"\n",
       "            allowfullscreen\n",
       "        ></iframe>\n",
       "        "
      ],
      "text/plain": [
       "<IPython.lib.display.IFrame at 0x106d8ac10>"
      ]
     },
     "execution_count": 5,
     "metadata": {},
     "output_type": "execute_result"
    }
   ],
   "source": [
    "from IPython.display import IFrame\n",
    "import bandicoot.special.dashboard\n",
    "import os\n",
    "\n",
    "dirpath = os.path.dirname(os.path.realpath(__name__))\n",
    "bc.special.dashboard.build(U, os.path.join(dirpath, 'viz'))\n",
    "\n",
    "IFrame(\"/files/viz/public/index.html\", \"100%\", 700)"
   ]
  },
  {
   "cell_type": "markdown",
   "metadata": {},
   "source": [
    "## Individual indicators\n",
    "\n",
    "\n",
    "1. active_days\n",
    "2. number_of_contacts\n",
    "3. number_of_interactions\n",
    "4. duration_of_calls\n",
    "5. percent_nocturnal\n",
    "6. percent_initiated_conversations\n",
    "7. percent_initiated_interactions\n",
    "8. response_delay_text\n",
    "9. response_rate_text\n",
    "10. entropy_of_contacts\n",
    "11. balance_of_contacts\n",
    "12. interactions_per_contact\n",
    "13. interevent_time\n",
    "\n",
    "\n",
    "<hr />\n",
    "\n",
    "Using bandicoot, compute aggregated indicators:"
   ]
  },
  {
   "cell_type": "code",
   "execution_count": 6,
   "metadata": {
    "collapsed": false
   },
   "outputs": [
    {
     "data": {
      "text/plain": [
       "{'allweek': {'allday': {'call': 1.8626732085630935,\n",
       "   'text': 1.8462551114653172}}}"
      ]
     },
     "execution_count": 6,
     "metadata": {},
     "output_type": "execute_result"
    }
   ],
   "source": [
    "bc.individual.entropy_of_contacts(U, groupby=None)"
   ]
  },
  {
   "cell_type": "code",
   "execution_count": 7,
   "metadata": {
    "collapsed": false
   },
   "outputs": [
    {
     "data": {
      "text/plain": [
       "{'allweek': {'allday': {'callandtext': 0.3080357142857143}}}"
      ]
     },
     "execution_count": 7,
     "metadata": {},
     "output_type": "execute_result"
    }
   ],
   "source": [
    "bc.individual.percent_initiated_conversations(U, groupby=None)"
   ]
  },
  {
   "cell_type": "markdown",
   "metadata": {},
   "source": [
    "Or plot distributions such as call durations:"
   ]
  },
  {
   "cell_type": "code",
   "execution_count": 8,
   "metadata": {
    "collapsed": false
   },
   "outputs": [
    {
     "data": {
      "image/png": "[encoded data removed]",
      "text/plain": [
       "<matplotlib.figure.Figure at 0x102b48090>"
      ]
     },
     "metadata": {},
     "output_type": "display_data"
    }
   ],
   "source": [
    "call_durations = bc.individual.call_duration(U, groupby=None, summary=None)['allweek']['allday']['call']\n",
    "\n",
    "log_bins = np.logspace(np.log10(min(call_durations)), np.log10(max(call_durations)), 10)\n",
    "plt.hist(call_durations, bins=log_bins)\n",
    "gca().set(title='Distribution of call duration', xscale='log',\n",
    "          xlabel='Call duration (second)', ylabel='Occurences');"
   ]
  },
  {
   "cell_type": "markdown",
   "metadata": {},
   "source": [
    "## Spatial indicators\n",
    "\n",
    "1. number_of_antennas\n",
    "2. entropy_of_antennas\n",
    "3. percent_at_home\n",
    "4. radius_of_gyration…"
   ]
  },
  {
   "cell_type": "code",
   "execution_count": 9,
   "metadata": {
    "collapsed": false
   },
   "outputs": [
    {
     "data": {
      "text/plain": [
       "{'allweek': {'allday': 10}}"
      ]
     },
     "execution_count": 9,
     "metadata": {},
     "output_type": "execute_result"
    }
   ],
   "source": [
    "bc.spatial.number_of_antennas(U, groupby=None)"
   ]
  },
  {
   "cell_type": "code",
   "execution_count": 10,
   "metadata": {
    "collapsed": false
   },
   "outputs": [
    {
     "data": {
      "text/plain": [
       "{'allweek': {'allday': 1.8065370474407052}}"
      ]
     },
     "execution_count": 10,
     "metadata": {},
     "output_type": "execute_result"
    }
   ],
   "source": [
    "bc.spatial.radius_of_gyration(U, groupby=None)"
   ]
  },
  {
   "cell_type": "code",
   "execution_count": 11,
   "metadata": {
    "collapsed": false
   },
   "outputs": [
    {
     "name": "stdout",
     "output_type": "stream",
     "text": [
      "Home: Position(antenna=1, location=(42.366944, -71.083611))\n",
      "Percent at home: 47%\n"
     ]
    }
   ],
   "source": [
    "avg_percent_at_home = bc.spatial.percent_at_home(U, groupby=None)['allweek']['allday']\n",
    "\n",
    "print \"Home:\", U.home\n",
    "print \"Percent at home: {0:.0f}%\".format(100 * avg_percent_at_home)"
   ]
  },
  {
   "cell_type": "markdown",
   "metadata": {},
   "source": [
    "## Weekly aggregation\n",
    "\n",
    "By default, _bandicoot_ computes the indicators on a weekly basis and returns the average (mean) over all the weeks available and its standard deviation (std) in a nested dictionary.\n",
    "\n",
    "The ``groupby='week'`` or ``groupby=None`` keyword controls the aggregation.\n",
    "\n",
    "<img src=\"mini-mockups-02.png\" width=\"80%\" style=\"border: 1px solid #aaa\" />"
   ]
  },
  {
   "cell_type": "code",
   "execution_count": 12,
   "metadata": {
    "collapsed": false
   },
   "outputs": [
    {
     "data": {
      "text/plain": [
       "{'allweek': {'allday': {'callandtext': 44}}}"
      ]
     },
     "execution_count": 12,
     "metadata": {},
     "output_type": "execute_result"
    }
   ],
   "source": [
    "# groupby=None aggregates all values\n",
    "bc.individual.active_days(U, groupby=None)"
   ]
  },
  {
   "cell_type": "code",
   "execution_count": 13,
   "metadata": {
    "collapsed": false
   },
   "outputs": [
    {
     "data": {
      "text/plain": [
       "{'allweek': {'allday': {'callandtext': {'mean': 5.5,\n",
       "    'std': 2.598076211353316}}}}"
      ]
     },
     "execution_count": 13,
     "metadata": {},
     "output_type": "execute_result"
    }
   ],
   "source": [
    "# By default, groupby='week' divide records by week and return mean and std\n",
    "bc.individual.active_days(U)"
   ]
  },
  {
   "cell_type": "markdown",
   "metadata": {},
   "source": [
    "## Summary\n",
    "\n",
    "Some indicators such as *active\\_days* returns one number. Others, such as *duration\\_of\\_calls* returns a distribution.\n",
    "\n",
    "The summary keyword can take three values:\n",
    "\n",
    " - `default`: to return mean and standard deviation;\n",
    " - `extended` for the second type of indicators, to return mean, sem, median, skewness and std of the distribution;\n",
    " - `None`: to return the full distribution."
   ]
  },
  {
   "cell_type": "code",
   "execution_count": 15,
   "metadata": {
    "collapsed": false
   },
   "outputs": [
    {
     "data": {
      "text/plain": [
       "{'allweek': {'allday': {'call': {'kurtosis': 1.8729008836491094,\n",
       "    'max': 7123.0,\n",
       "    'mean': 3557.2933333333335,\n",
       "    'median': 3552.0,\n",
       "    'min': 140.0,\n",
       "    'skewness': -0.01195616625912045,\n",
       "    'std': 2067.863501448348}}}}"
      ]
     },
     "execution_count": 15,
     "metadata": {},
     "output_type": "execute_result"
    }
   ],
   "source": [
    "bc.individual.call_duration(U, summary='extended', groupby=None)"
   ]
  },
  {
   "cell_type": "code",
   "execution_count": 14,
   "metadata": {
    "collapsed": false
   },
   "outputs": [
    {
     "data": {
      "text/plain": [
       "{'allweek': {'allday': {'callandtext': [1, 7, 7, 7, 7, 7, 7, 1]}}}"
      ]
     },
     "execution_count": 14,
     "metadata": {},
     "output_type": "execute_result"
    }
   ],
   "source": [
    "bc.individual.active_days(U, summary=None)"
   ]
  },
  {
   "cell_type": "code",
   "execution_count": 16,
   "metadata": {
    "collapsed": false
   },
   "outputs": [
    {
     "name": "stdout",
     "output_type": "stream",
     "text": [
      "{'allweek': {'allday': {'call': [140, 154, 231, 267, 374, 403, 539, 594, 620, 706, 969, 1086, 1099, 1273, 1309, 1330, 1355, 1853, 1890, 1927, 1937, 1999, 2072, 2109, 2258, 2456, 2626, 2726, 2854, 2871, 3210, 3286, 3404, 3435, 3454, 3503, 3531, 3552, 3609, 3668, 3782, 4002, 4146, 4154, 4202, 4227, 4240, 4451, 4472, 4666, 4689, 4832, 4877, 4929, 5096, 5142, 5184, 5359, 5413, 5658, 5689, 5728, 5752, 5804, 6233, 6392, 6429, 6539, 6541, 6674, 6682, 6891, 7038, 7082, 7123]}}}\n"
     ]
    }
   ],
   "source": [
    "print bc.individual.call_duration(U, summary=None, groupby=None)"
   ]
  },
  {
   "cell_type": "markdown",
   "metadata": {},
   "source": [
    "## Day and week"
   ]
  },
  {
   "cell_type": "code",
   "execution_count": 17,
   "metadata": {
    "collapsed": false
   },
   "outputs": [
    {
     "data": {
      "text/plain": [
       "{'allweek': {'allday': {'callandtext': {'mean': 5.5,\n",
       "    'std': 2.598076211353316}},\n",
       "  'day': {'callandtext': {'mean': 5.5, 'std': 2.598076211353316}},\n",
       "  'night': {'callandtext': {'mean': 5.375, 'std': 2.54644359843292}}},\n",
       " 'weekday': {'allday': {'callandtext': {'mean': 4.428571428571429,\n",
       "    'std': 1.3997084244475304}},\n",
       "  'day': {'callandtext': {'mean': 4.428571428571429,\n",
       "    'std': 1.3997084244475304}},\n",
       "  'night': {'callandtext': {'mean': 4.428571428571429,\n",
       "    'std': 1.3997084244475304}}},\n",
       " 'weekend': {'allday': {'callandtext': {'mean': 1.8571428571428572,\n",
       "    'std': 0.34992710611188266}},\n",
       "  'day': {'callandtext': {'mean': 1.8571428571428572,\n",
       "    'std': 0.34992710611188266}},\n",
       "  'night': {'callandtext': {'mean': 1.7142857142857142,\n",
       "    'std': 0.45175395145262565}}}}"
      ]
     },
     "execution_count": 17,
     "metadata": {},
     "output_type": "execute_result"
    }
   ],
   "source": [
    "bc.individual.active_days(U, split_week=True, split_day=True)"
   ]
  },
  {
   "cell_type": "markdown",
   "metadata": {},
   "source": [
    "## Exporting indicators\n",
    "\n",
    "The function ``bc.utils.all`` computes automatically all indicators for a single user.\n",
    "\n",
    "You can use the same keywords to group by week/month/all time range, or return extended statistics."
   ]
  },
  {
   "cell_type": "code",
   "execution_count": 18,
   "metadata": {
    "collapsed": false,
    "scrolled": true
   },
   "outputs": [
    {
     "data": {
      "text/plain": [
       "{'allweek': {'allday': {'callandtext': {'mean': 5.5,\n",
       "    'std': 2.598076211353316}},\n",
       "  'day': {'callandtext': {'mean': 5.5, 'std': 2.598076211353316}},\n",
       "  'night': {'callandtext': {'mean': 5.375, 'std': 2.54644359843292}}},\n",
       " 'weekday': {'allday': {'callandtext': {'mean': 4.428571428571429,\n",
       "    'std': 1.3997084244475304}},\n",
       "  'day': {'callandtext': {'mean': 4.428571428571429,\n",
       "    'std': 1.3997084244475304}},\n",
       "  'night': {'callandtext': {'mean': 4.428571428571429,\n",
       "    'std': 1.3997084244475304}}},\n",
       " 'weekend': {'allday': {'callandtext': {'mean': 1.8571428571428572,\n",
       "    'std': 0.34992710611188266}},\n",
       "  'day': {'callandtext': {'mean': 1.8571428571428572,\n",
       "    'std': 0.34992710611188266}},\n",
       "  'night': {'callandtext': {'mean': 1.7142857142857142,\n",
       "    'std': 0.45175395145262565}}}}"
      ]
     },
     "execution_count": 18,
     "metadata": {},
     "output_type": "execute_result"
    }
   ],
   "source": [
    "features = bc.utils.all(U, groupby=None); _"
   ]
  },
  {
   "cell_type": "markdown",
   "metadata": {},
   "source": [
    "#### Exporting in CSV and JSON\n",
    "\n",
    "bandicoot supports exports in CSV and JSON format. Both ``to_csv`` and ``to_json`` functions require either a single feature dictionnary, or a list of dictionnaries (for multiple users)."
   ]
  },
  {
   "cell_type": "code",
   "execution_count": 19,
   "metadata": {
    "collapsed": false
   },
   "outputs": [
    {
     "name": "stdout",
     "output_type": "stream",
     "text": [
      "Successfully exported 1 object(s) to demo_export_user.csv\n",
      "Successfully exported 1 object(s) to demo_export_user.json\n"
     ]
    }
   ],
   "source": [
    "bc.io.to_csv(features, 'demo_export_user.csv')\n",
    "bc.io.to_json(features, 'demo_export_user.json')"
   ]
  },
  {
   "cell_type": "code",
   "execution_count": 20,
   "metadata": {
    "collapsed": false,
    "scrolled": false
   },
   "outputs": [
    {
     "name": "stdout",
     "output_type": "stream",
     "text": [
      "name,reporting__antennas_path,reporting__attributes_path,reporting__recharges_path,reporting__version,reporting__code_signature,reporting__groupby,reporting__split_week,reporting__split_day,reporting__start_time,reporting__end_time,reporting__night_start,reporting__night_end,reporting__weekend,reporting__number_of_records,reporting__number_of_antennas,reporting__number_of_recharges,reporting__bins,reporting__bins_with_data,reporting__bins_without_data,reporting__has_call,reporting__has_text,reporting__has_home,reporting__has_recharges,reporting__has_attributes,reporting__has_network,reporting__percent_records_missing_location,reporting__antennas_missing_locations,reporting__percent_outofnetwork_calls,reporting__percent_outofnetwork_texts,reporting__percent_outofnetwork_contacts,reporting__percent_outofnetwork_call_durations,reporting__ignored_records__all,reporting__ignored_records__interaction,reporting__ignored_records__location,reporting__ignored_records__correspondent_id,reporting__ignored_records__call_duration,reporting__ignored_records__direction,reporting__ignored_records__datetime,active_days__allweek__allday__callandtext,number_of_contacts__allweek__allday__text,number_of_contacts__allweek__allday__call,call_duration__allweek__allday__call__std,call_duration__allweek__allday__call__mean,percent_nocturnal__allweek__allday__text,percent_nocturnal__allweek__allday__call,percent_initiated_conversations__allweek__allday__callandtext,percent_initiated_interactions__allweek__allday__call,response_delay_text__allweek__allday__callandtext__std,response_delay_text__allweek__allday__callandtext__mean,response_rate_text__allweek__allday__callandtext,entropy_of_contacts__allweek__allday__text,entropy_of_contacts__allweek__allday__call,balance_of_contacts__allweek__allday__text__std,balance_of_contacts__allweek__allday__text__mean,balance_of_contacts__allweek__allday__call__std,balance_of_contacts__allweek__allday__call__mean,interactions_per_contact__allweek__allday__text__std,interactions_per_contact__allweek__allday__text__mean,interactions_per_contact__allweek__allday__call__std,interactions_per_contact__allweek__allday__call__mean,interevent_time__allweek__allday__text__std,interevent_time__allweek__allday__text__mean,interevent_time__allweek__allday__call__std,interevent_time__allweek__allday__call__mean,percent_pareto_interactions__allweek__allday__text,percent_pareto_interactions__allweek__allday__call,percent_pareto_durations__allweek__allday__call,number_of_interactions__allweek__allday__text,number_of_interactions__allweek__allday__call,number_of_interaction_in__allweek__allday__text,number_of_interaction_in__allweek__allday__call,number_of_interaction_out__allweek__allday__text,number_of_interaction_out__allweek__allday__call,number_of_antennas__allweek__allday,entropy_of_antennas__allweek__allday,percent_at_home__allweek__allday,radius_of_gyration__allweek__allday,frequent_antennas__allweek__allday,churn_rate__std,churn_rate__mean\r",
      "\r\n",
      "ego,data/antennas.csv,,,0.4.0,6a4418b5b6e10c879e4423ccac8e942ac027e535,,False,False,2014-03-02 07:13:30,2014-04-14 12:04:37,19:00:00,07:00:00,\"[6, 7]\",314,27,0,1,1,0,True,True,True,False,False,False,0.0,0,0,0,0,0,0,0,0,0,0,0,0,44,7,7,2067.8635,3557.29333,0.43933,0.42667,0.30804,0.41333,747.59615,2310.0,0.02581,1.84626,1.86267,0.01829,0.04363,0.01866,0.05905,15.02787,34.14286,4.02543,10.71429,16816.12856,15683.47479,49455.92699,49024.86486,0.02092,0.06667,0.06667,239,75,166,44,73,31,10,1.50028,0.47386,1.80654,3,0.05196,0.07392\r",
      "\r\n"
     ]
    }
   ],
   "source": [
    "!head demo_export_user.csv"
   ]
  },
  {
   "cell_type": "code",
   "execution_count": null,
   "metadata": {
    "collapsed": true
   },
   "outputs": [],
   "source": []
  }
 ],
 "metadata": {
  "kernelspec": {
   "display_name": "Python 2",
   "language": "python",
   "name": "python2"
  },
  "language_info": {
   "codemirror_mode": {
    "name": "ipython",
    "version": 2
   },
   "file_extension": ".py",
   "mimetype": "text/x-python",
   "name": "python",
   "nbconvert_exporter": "python",
   "pygments_lexer": "ipython2",
   "version": "2.7.9"
  }
 },
 "nbformat": 4,
 "nbformat_minor": 0
}
